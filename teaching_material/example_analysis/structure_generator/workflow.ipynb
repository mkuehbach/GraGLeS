{
 "cells": [
  {
   "cell_type": "code",
   "execution_count": null,
   "id": "5f46a29e-10b7-4045-80fc-ff98359aaa19",
   "metadata": {},
   "outputs": [],
   "source": [
    "import os, sys\n",
    "import numpy as np\n",
    "import h5py\n",
    "from jupyterlab_h5web import H5Web\n",
    "\n",
    "def get_file_size(file_name):\n",
    "    print(f\"{np.around(os.path.getsize(file_name)/1024/1024, decimals=3)} MiB\")"
   ]
  },
  {
   "cell_type": "markdown",
   "id": "ea69bb2a-439e-4ab1-b485-d50c27b1bc3d",
   "metadata": {},
   "source": [
    "### Structure generation"
   ]
  },
  {
   "cell_type": "code",
   "execution_count": null,
   "id": "4e89b8c6-8d8b-441d-9d95-6f1377468494",
   "metadata": {},
   "outputs": [],
   "source": [
    "! ./../../../code/structure_generator/build/gragles_structure_generator 0 parameters.xml 1>STDOUT.txt 2>STDERR.txt"
   ]
  },
  {
   "cell_type": "code",
   "execution_count": null,
   "id": "a801f8ce-ed1d-4337-8b7b-5a5d62fa9ff8",
   "metadata": {},
   "outputs": [],
   "source": [
    "get_file_size(\"StructureGenerator.Results.SimID.0.nxs\")\n",
    "H5Web(\"StructureGenerator.Results.SimID.0.nxs\")"
   ]
  },
  {
   "cell_type": "code",
   "execution_count": null,
   "id": "916bbc1e-677a-4b9e-a215-c956b5594e28",
   "metadata": {},
   "outputs": [],
   "source": [
    "# with h5py.File(\"StructureGenerator.Results.SimID.0.nxs\", \"r\") as h5r:"
   ]
  },
  {
   "cell_type": "markdown",
   "id": "fb82bdce-528c-4680-9197-ba0da83c8485",
   "metadata": {},
   "source": [
    "### Grain coarsening simulation"
   ]
  },
  {
   "cell_type": "code",
   "execution_count": null,
   "id": "8599469d-4b15-483f-aa36-d13f8b8de3c4",
   "metadata": {},
   "outputs": [],
   "source": [
    "! ./../../../code/twod_obc_solver/build/gragles_twod_obc_solver parameters.xml 1>STDOUT.txt 2>STDERR.txt"
   ]
  },
  {
   "cell_type": "code",
   "execution_count": null,
   "id": "2cc6d189-82b6-4760-97b3-f31395e6b636",
   "metadata": {},
   "outputs": [],
   "source": [
    "get_file_size(\"Twod.Obc.Solver.Results.SimID.0.nxs\")\n",
    "H5Web(\"Twod.Obc.Solver.Results.SimID.0.nxs\")"
   ]
  },
  {
   "cell_type": "code",
   "execution_count": null,
   "id": "ae3f4058-a29d-495b-bf57-f24801a94505",
   "metadata": {},
   "outputs": [],
   "source": [
    "with h5py.File(\"Twod.Obc.Solver.Results.SimID.0.nxs\", \"r\") as h5r:\n",
    "    for loop in np.arange(0, 100):\n",
    "        print(np.sum(h5r[f\"/entry1/ms/step{loop}/grain_size\"][:]))"
   ]
  },
  {
   "cell_type": "code",
   "execution_count": null,
   "id": "021d75a5-c379-4ffe-a8b8-acee75cce54a",
   "metadata": {},
   "outputs": [],
   "source": []
  }
 ],
 "metadata": {
  "kernelspec": {
   "display_name": "Python 3 (ipykernel)",
   "language": "python",
   "name": "python3"
  },
  "language_info": {
   "codemirror_mode": {
    "name": "ipython",
    "version": 3
   },
   "file_extension": ".py",
   "mimetype": "text/x-python",
   "name": "python",
   "nbconvert_exporter": "python",
   "pygments_lexer": "ipython3",
   "version": "3.10.13"
  }
 },
 "nbformat": 4,
 "nbformat_minor": 5
}
