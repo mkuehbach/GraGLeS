{
 "cells": [
  {
   "cell_type": "code",
   "execution_count": null,
   "id": "5f46a29e-10b7-4045-80fc-ff98359aaa19",
   "metadata": {},
   "outputs": [],
   "source": [
    "import os, sys\n",
    "import numpy as np\n",
    "import h5py\n",
    "from jupyterlab_h5web import H5Web\n",
    "\n",
    "def get_file_size(file_name):\n",
    "    print(f\"{np.around(os.path.getsize(file_name)/1024/1024, decimals=3)} MiB\")"
   ]
  },
  {
   "cell_type": "markdown",
   "id": "ea69bb2a-439e-4ab1-b485-d50c27b1bc3d",
   "metadata": {},
   "source": [
    "### Structure generation"
   ]
  },
  {
   "cell_type": "code",
   "execution_count": null,
   "id": "4e89b8c6-8d8b-441d-9d95-6f1377468494",
   "metadata": {},
   "outputs": [],
   "source": [
    "! ./../../../code/structure_generator/build/gragles_structure_generator 0 parameters.xml  # 1>STDOUT.txt 2>STDERR.txt"
   ]
  },
  {
   "cell_type": "code",
   "execution_count": null,
   "id": "a801f8ce-ed1d-4337-8b7b-5a5d62fa9ff8",
   "metadata": {},
   "outputs": [],
   "source": [
    "get_file_size(\"StructureGenerator.Results.SimID.0.nxs\")\n",
    "H5Web(\"StructureGenerator.Results.SimID.0.nxs\")"
   ]
  },
  {
   "cell_type": "code",
   "execution_count": null,
   "id": "916bbc1e-677a-4b9e-a215-c956b5594e28",
   "metadata": {},
   "outputs": [],
   "source": [
    "with h5py.File(\"StructureGenerator.Results.SimID.0.nxs\", \"r\") as h5r:\n",
    "    print(f'Do all material points have a grain? {np.prod(h5r[\"/entry1/ms/extent\"][:]) == np.sum(h5r[\"/entry1/ms/grain_size\"][:])}')"
   ]
  },
  {
   "cell_type": "markdown",
   "id": "4d648920-f5fd-4f0f-ba57-9cc85054d3df",
   "metadata": {},
   "source": [
    "***\n",
    "Markus Kühbach, 2024/04<br>\n",
    "The work is funded by the Deutsche Forschungsgemeinschaft (DFG, German Research Foundation) – 460197019 (FAIRmat)."
   ]
  },
  {
   "cell_type": "code",
   "execution_count": null,
   "id": "ab4489b0-19d0-4f2a-be97-6aed350179ce",
   "metadata": {},
   "outputs": [],
   "source": []
  }
 ],
 "metadata": {
  "kernelspec": {
   "display_name": "Python 3 (ipykernel)",
   "language": "python",
   "name": "python3"
  },
  "language_info": {
   "codemirror_mode": {
    "name": "ipython",
    "version": 3
   },
   "file_extension": ".py",
   "mimetype": "text/x-python",
   "name": "python",
   "nbconvert_exporter": "python",
   "pygments_lexer": "ipython3",
   "version": "3.10.13"
  }
 },
 "nbformat": 4,
 "nbformat_minor": 5
}
