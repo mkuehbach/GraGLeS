{
 "cells": [
  {
   "cell_type": "code",
   "execution_count": 32,
   "id": "5f46a29e-10b7-4045-80fc-ff98359aaa19",
   "metadata": {},
   "outputs": [],
   "source": [
    "import os, sys\n",
    "import numpy as np\n",
    "import h5py\n",
    "from jupyterlab_h5web import H5Web\n",
    "\n",
    "def get_file_size(file_name):\n",
    "    print(f\"{np.around(os.path.getsize(file_name)/1024/1024, decimals=3)} MiB\")"
   ]
  },
  {
   "cell_type": "code",
   "execution_count": 33,
   "id": "8599469d-4b15-483f-aa36-d13f8b8de3c4",
   "metadata": {},
   "outputs": [],
   "source": [
    "! ./../../../code/twod_obc_solver/build/gragles_twod_obc_solver parameters.xml 1>STDOUT.txt 2>STDERR.txt"
   ]
  },
  {
   "cell_type": "code",
   "execution_count": 34,
   "id": "ae3f4058-a29d-495b-bf57-f24801a94505",
   "metadata": {},
   "outputs": [
    {
     "name": "stdout",
     "output_type": "stream",
     "text": [
      "0.9951098736002114\n",
      "0.9943062934154336\n",
      "0.9938479747593933\n",
      "0.9936563127836486\n",
      "0.9936266451991477\n",
      "0.9936241456546641\n",
      "0.9936380499955368\n",
      "0.9936306160661627\n",
      "0.9936363948892896\n",
      "0.9936375102150965\n",
      "0.9936695230748529\n",
      "0.9936663203038159\n",
      "0.9936734778759022\n",
      "0.9936782324777965\n",
      "0.9936824629986218\n",
      "0.9937005909605401\n",
      "0.9937217430862484\n",
      "0.9937239451198707\n",
      "0.9937221644314658\n",
      "0.9937300370843873\n",
      "0.9937347900367879\n",
      "0.993741832714944\n",
      "0.9937481446646419\n",
      "0.9937549471623621\n",
      "0.9937829416607071\n",
      "0.9937696394445172\n",
      "0.9937850660922726\n",
      "0.9937837469999256\n",
      "0.993785877527582\n",
      "0.9937766909993904\n",
      "0.9937960842741758\n",
      "0.9938072077892154\n",
      "0.9938223759561655\n",
      "0.9938211951122015\n",
      "0.9938334779003475\n",
      "0.9938379629295435\n",
      "0.9938529561449084\n",
      "0.9938594655163582\n",
      "0.9938595148943445\n",
      "0.9938784450609367\n",
      "0.9938707143956801\n",
      "0.9938757525162675\n",
      "0.9938842778043954\n",
      "0.9939044884210705\n",
      "0.9922821942623365\n",
      "0.9927606372724962\n",
      "0.9930025738202901\n",
      "0.9931311657739565\n",
      "0.9932101649147418\n",
      "0.9932667443824114\n",
      "0.9933068195561032\n",
      "0.9933359838200757\n",
      "0.9933327786854262\n",
      "0.9933686478155912\n",
      "0.9933783138026441\n",
      "0.9933719572546583\n",
      "0.9933927893026889\n",
      "0.9922479603603013\n",
      "0.9927216055205133\n",
      "0.9929535097779036\n",
      "0.9930985750503496\n",
      "0.9931748272618415\n",
      "0.9932143501978441\n",
      "0.9932473062261784\n",
      "0.9932676909801537\n",
      "0.993284359410568\n",
      "0.9933200161402274\n",
      "0.9933388162354222\n",
      "0.9933566737801875\n",
      "0.9933665742658037\n",
      "0.9922923149382976\n",
      "0.992755067430753\n",
      "0.9929854660936221\n",
      "0.9931260320699603\n",
      "0.9931838795752967\n",
      "0.9932143432533168\n",
      "0.9932411508017903\n",
      "0.9932642474300519\n",
      "0.993275398009682\n",
      "0.9932920629544604\n",
      "0.9932858816731664\n",
      "0.9922575804939547\n",
      "0.9927187818189798\n",
      "0.9929634464911109\n",
      "0.993068034374936\n",
      "0.9931646965548963\n",
      "0.9932157858971695\n",
      "0.9932730656086199\n",
      "0.9932902847620358\n",
      "0.9933125236004611\n",
      "0.9923003364832461\n",
      "0.9927509419543501\n",
      "0.9929813935791465\n",
      "0.9930838232547081\n",
      "0.9931328284649903\n",
      "0.9931810245940684\n",
      "0.9932161165202443\n",
      "0.9932254635012743\n",
      "0.9932566191712598\n",
      "0.9922901983563426\n"
     ]
    }
   ],
   "source": [
    "with h5py.File(\"Twod.Obc.Solver.Results.SimID.0.nxs\", \"r\") as h5r:\n",
    "    for loop in np.arange(0, 100):\n",
    "        print(np.sum(h5r[f\"/entry1/ms/step{loop}/grain_size\"][:]))"
   ]
  },
  {
   "cell_type": "code",
   "execution_count": 35,
   "id": "2cc6d189-82b6-4760-97b3-f31395e6b636",
   "metadata": {},
   "outputs": [
    {
     "name": "stdout",
     "output_type": "stream",
     "text": [
      "88.371 MiB\n"
     ]
    },
    {
     "data": {
      "application/x-hdf5": "/home/kaiobach/Research/mcl-gragles/GraGLeS/teaching_material/example_analysis/twod_obc_solver/Twod.Obc.Solver.Results.SimID.0.nxs",
      "text/plain": [
       "<jupyterlab_h5web.widget.H5Web object>"
      ]
     },
     "execution_count": 35,
     "metadata": {},
     "output_type": "execute_result"
    }
   ],
   "source": [
    "get_file_size(\"Twod.Obc.Solver.Results.SimID.0.nxs\")\n",
    "H5Web(\"Twod.Obc.Solver.Results.SimID.0.nxs\")"
   ]
  },
  {
   "cell_type": "code",
   "execution_count": null,
   "id": "021d75a5-c379-4ffe-a8b8-acee75cce54a",
   "metadata": {},
   "outputs": [],
   "source": []
  }
 ],
 "metadata": {
  "kernelspec": {
   "display_name": "Python 3 (ipykernel)",
   "language": "python",
   "name": "python3"
  },
  "language_info": {
   "codemirror_mode": {
    "name": "ipython",
    "version": 3
   },
   "file_extension": ".py",
   "mimetype": "text/x-python",
   "name": "python",
   "nbconvert_exporter": "python",
   "pygments_lexer": "ipython3",
   "version": "3.10.13"
  }
 },
 "nbformat": 4,
 "nbformat_minor": 5
}
