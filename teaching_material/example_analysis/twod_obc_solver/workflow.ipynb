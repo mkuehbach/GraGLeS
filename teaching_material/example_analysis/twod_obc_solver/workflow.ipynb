{
 "cells": [
  {
   "cell_type": "code",
   "execution_count": 1,
   "id": "5f46a29e-10b7-4045-80fc-ff98359aaa19",
   "metadata": {},
   "outputs": [],
   "source": [
    "import os, sys\n",
    "import numpy as np\n",
    "import h5py\n",
    "from jupyterlab_h5web import H5Web\n",
    "\n",
    "def get_file_size(file_name):\n",
    "    print(f\"{np.around(os.path.getsize(file_name)/1024/1024, decimals=3)} MiB\")\n",
    "MYOMP=int(os.cpu_count()/2)"
   ]
  },
  {
   "cell_type": "markdown",
   "id": "fb82bdce-528c-4680-9197-ba0da83c8485",
   "metadata": {},
   "source": [
    "### Grain coarsening simulation"
   ]
  },
  {
   "cell_type": "code",
   "execution_count": 7,
   "id": "8599469d-4b15-483f-aa36-d13f8b8de3c4",
   "metadata": {},
   "outputs": [
    {
     "name": "stdout",
     "output_type": "stream",
     "text": [
      "initializeParameters\n",
      "https://github.com/mkuehbach/GraGLeS/<<ADD COMMID ID>>/NXms_gragles_results\n",
      "config_file_sha256 <<ADD SHA256( ConfigShared::ConfigurationFile )>>\n",
      "config_file_name <<ADD ConfigShared::ConfigurationFile>>\n",
      "read_header_from_nexusfile\n",
      "realDomainSize 1681\n",
      "grid_blowup 0\n",
      "NumberOfPointsPerGrain 15\n",
      "Starting to read microstructure input files\n",
      "read_microstructure_from_nexusfile\n",
      "ngridpoints 1695\n",
      "grid_blowup 7\n",
      "Build boxes...\n",
      "method not implemented for less than 4 threads, use sequential one. \n",
      "Construct LSbox objects\n",
      "Read microstructure input files successfully\n",
      "m_Energy_deltaMAX 1.57294e+15\n",
      "dt 4.24664e-07\n",
      "m_dt_Correction 4.45293e-13\n",
      "dt 4.24664e-07\n",
      "\n",
      "******* PROGRAM OPTIONS: *******\n",
      "\n",
      "Number of Grains: 12991\n",
      "simulated Timesteps: 10000\n",
      "DELTA TUBE: 0.00416419\n",
      "Timestepwidth 4.24664e-07\n",
      "Number of Gridpoints: 1695\n",
      "\n",
      "\n",
      "******* start simulation: *******\n",
      "\n",
      "elapsed secs for Initializing network (Read):0.182882\n",
      "\n",
      "workload thread 0= 12991 number of grains to process \n",
      "\n",
      "workload thread 1= 0 number of grains to process \n",
      "\n",
      "Time for Distancefunction Initialization: 0.31785\n",
      "Writing snapshot data for loop 0 into NeXus file success.\n",
      "Timestep 0 complete;12991 grains remaining\n",
      "I am incrementing the real-time realTime/dt/PhysDomSize/realDomainSize/TimeSlope/Energy/Mobility/GridCoarsement = 126.175;4.24664e-07;0.0042037;1681;0.793;1;7.5e-14--1\n",
      "we cleared a small grain 1027\n",
      "we cleared a small grain 4569\n",
      "we cleared a small grain 8386\n",
      "we cleared a small grain 8470\n",
      "we cleared a small grain 10279\n",
      "I am incrementing the real-time realTime/dt/PhysDomSize/realDomainSize/TimeSlope/Energy/Mobility/GridCoarsement = 252.351;4.24664e-07;0.0042037;1681;0.793;1;7.5e-14--1\n",
      "we cleared a small grain 237\n",
      "we cleared a small grain 716\n",
      "we cleared a small grain 812\n",
      "we cleared a small grain 943\n",
      "we cleared a small grain 959\n",
      "we cleared a small grain 2859\n",
      "we cleared a small grain 3024\n",
      "we cleared a small grain 3043\n",
      "we cleared a small grain 5085\n",
      "we cleared a small grain 8170\n",
      "we cleared a small grain 8226\n",
      "we cleared a small grain 8658\n",
      "we cleared a small grain 8981\n",
      "we cleared a small grain 9084\n",
      "we cleared a small grain 9105\n",
      "we cleared a small grain 9188\n",
      "we cleared a small grain 9794\n",
      "we cleared a small grain 10810\n",
      "we cleared a small grain 11063\n",
      "we cleared a small grain 11172\n",
      "we cleared a small grain 11266\n",
      "terminate called after throwing an instance of 'std::out_of_range'\n",
      "  what():  vector::_M_range_check: __n (which is 4294967295) >= this->size() (which is 1444)\n"
     ]
    }
   ],
   "source": [
    "! export OMP_NUM_THREADS=$MYOMP && ./../../../code/twod_obc_solver/build/gragles_twod_obc_solver 0 parameters.xml  # 1>STDOUT.txt 2>STDERR.txt"
   ]
  },
  {
   "cell_type": "code",
   "execution_count": 3,
   "id": "2cc6d189-82b6-4760-97b3-f31395e6b636",
   "metadata": {},
   "outputs": [
    {
     "name": "stdout",
     "output_type": "stream",
     "text": [
      "65.654 MiB\n"
     ]
    },
    {
     "data": {
      "application/x-hdf5": "/home/kaiobach/Research/mcl-gragles/GraGLeS/teaching_material/example_analysis/twod_obc_solver/Twod.Obc.Solver.Results.SimID.0.nxs",
      "text/plain": [
       "<jupyterlab_h5web.widget.H5Web object>"
      ]
     },
     "execution_count": 3,
     "metadata": {},
     "output_type": "execute_result"
    }
   ],
   "source": [
    "get_file_size(\"Twod.Obc.Solver.Results.SimID.0.nxs\")\n",
    "H5Web(\"Twod.Obc.Solver.Results.SimID.0.nxs\")"
   ]
  },
  {
   "cell_type": "code",
   "execution_count": 9,
   "id": "ae3f4058-a29d-495b-bf57-f24801a94505",
   "metadata": {},
   "outputs": [
    {
     "name": "stdout",
     "output_type": "stream",
     "text": [
      "0.9927090696354758\n"
     ]
    }
   ],
   "source": [
    "with h5py.File(\"Twod.Obc.Solver.Results.SimID.0.nxs\", \"r\") as h5r:\n",
    "    # for idx, grpnm in enumerate(list(h5r[\"/entry1/ms\"])):\n",
    "    #     if grpnm.startswith(\"step\"):\n",
    "    #         print(f'{grpnm}: {np.sum(h5r[f\"/entry1/ms/{grpnm}/grain_size\"][:])}')\n",
    "    print(np.quantile(h5r[f\"/entry1/ms/step100/grain_boundary_energy_times_mobility\"][:], 0.75))"
   ]
  },
  {
   "cell_type": "markdown",
   "id": "c99b4355-fc48-4a5d-b8bb-a591d927d3b1",
   "metadata": {},
   "source": [
    "***\n",
    "Markus Kühbach, 2024/04<br>\n",
    "The work is funded by the Deutsche Forschungsgemeinschaft (DFG, German Research Foundation) – 460197019 (FAIRmat)."
   ]
  },
  {
   "cell_type": "code",
   "execution_count": null,
   "id": "6dc4f8a6-4a5b-4098-897e-a2fdc63838a7",
   "metadata": {},
   "outputs": [],
   "source": []
  }
 ],
 "metadata": {
  "kernelspec": {
   "display_name": "Python 3 (ipykernel)",
   "language": "python",
   "name": "python3"
  },
  "language_info": {
   "codemirror_mode": {
    "name": "ipython",
    "version": 3
   },
   "file_extension": ".py",
   "mimetype": "text/x-python",
   "name": "python",
   "nbconvert_exporter": "python",
   "pygments_lexer": "ipython3",
   "version": "3.10.13"
  }
 },
 "nbformat": 4,
 "nbformat_minor": 5
}
