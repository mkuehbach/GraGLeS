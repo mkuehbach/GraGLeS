{
 "cells": [
  {
   "cell_type": "code",
   "execution_count": null,
   "id": "5f46a29e-10b7-4045-80fc-ff98359aaa19",
   "metadata": {},
   "outputs": [],
   "source": [
    "import os, sys\n",
    "import numpy as np\n",
    "import h5py\n",
    "from jupyterlab_h5web import H5Web\n",
    "\n",
    "def get_file_size(file_name):\n",
    "    print(f\"{np.around(os.path.getsize(file_name)/1024/1024, decimals=3)} MiB\")"
   ]
  },
  {
   "cell_type": "markdown",
   "id": "fb82bdce-528c-4680-9197-ba0da83c8485",
   "metadata": {},
   "source": [
    "### Grain coarsening simulation"
   ]
  },
  {
   "cell_type": "code",
   "execution_count": null,
   "id": "8599469d-4b15-483f-aa36-d13f8b8de3c4",
   "metadata": {},
   "outputs": [],
   "source": [
    "! ./../../../code/twod_obc_solver/build/gragles_twod_obc_solver parameters.xml # 1>STDOUT.txt 2>STDERR.txt"
   ]
  },
  {
   "cell_type": "code",
   "execution_count": null,
   "id": "2cc6d189-82b6-4760-97b3-f31395e6b636",
   "metadata": {},
   "outputs": [],
   "source": [
    "get_file_size(\"Twod.Obc.Solver.Results.SimID.0.nxs\")\n",
    "H5Web(\"Twod.Obc.Solver.Results.SimID.0.nxs\")"
   ]
  },
  {
   "cell_type": "code",
   "execution_count": null,
   "id": "ae3f4058-a29d-495b-bf57-f24801a94505",
   "metadata": {},
   "outputs": [],
   "source": [
    "with h5py.File(\"Twod.Obc.Solver.Results.SimID.0.nxs\", \"r\") as h5r:\n",
    "    for idx, grpnm in enumerate(list(h5r[\"/entry1/ms\"])):\n",
    "        if grpnm.startswith(\"step\"):\n",
    "            print(f'{grpnm}: {np.sum(h5r[f\"/entry1/ms/{grpnm}/grain_size\"][:])}')"
   ]
  },
  {
   "cell_type": "markdown",
   "id": "c99b4355-fc48-4a5d-b8bb-a591d927d3b1",
   "metadata": {},
   "source": [
    "***\n",
    "Markus Kühbach, 2024/04<br>\n",
    "The work is funded by the Deutsche Forschungsgemeinschaft (DFG, German Research Foundation) – 460197019 (FAIRmat)."
   ]
  },
  {
   "cell_type": "code",
   "execution_count": null,
   "id": "6dc4f8a6-4a5b-4098-897e-a2fdc63838a7",
   "metadata": {},
   "outputs": [],
   "source": []
  }
 ],
 "metadata": {
  "kernelspec": {
   "display_name": "Python 3 (ipykernel)",
   "language": "python",
   "name": "python3"
  },
  "language_info": {
   "codemirror_mode": {
    "name": "ipython",
    "version": 3
   },
   "file_extension": ".py",
   "mimetype": "text/x-python",
   "name": "python",
   "nbconvert_exporter": "python",
   "pygments_lexer": "ipython3",
   "version": "3.10.13"
  }
 },
 "nbformat": 4,
 "nbformat_minor": 5
}
